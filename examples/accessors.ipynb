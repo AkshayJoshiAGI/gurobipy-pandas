{
 "cells": [
  {
   "cell_type": "code",
   "execution_count": null,
   "id": "b59c7b12",
   "metadata": {},
   "outputs": [],
   "source": [
    "import numpy as np\n",
    "import pandas as pd\n",
    "import gurobipy as gp\n",
    "from gurobipy import GRB"
   ]
  },
  {
   "cell_type": "code",
   "execution_count": null,
   "id": "09c1affc",
   "metadata": {},
   "outputs": [],
   "source": [
    "# Currently just import to register the accessors.\n",
    "# This seems a common pattern for other libraries.\n",
    "import pdcomfi.accessors"
   ]
  },
  {
   "cell_type": "code",
   "execution_count": null,
   "id": "23e68fa2",
   "metadata": {},
   "outputs": [],
   "source": [
    "model = gp.Model()\n",
    "series = pd.Series(\n",
    "    index=pd.RangeIndex(5, 10),\n",
    "    data=np.random.random(5),\n",
    ")\n",
    "series"
   ]
  },
  {
   "cell_type": "code",
   "execution_count": null,
   "id": "f2487cf0",
   "metadata": {},
   "outputs": [],
   "source": [
    "# From an existing series, create variables using\n",
    "# the index accessor. Names are based on index values.\n",
    "x = series.index.grb.addVars(model, name=\"x\")\n",
    "model.update()\n",
    "x"
   ]
  },
  {
   "cell_type": "code",
   "execution_count": null,
   "id": "e488bf90",
   "metadata": {},
   "outputs": [],
   "source": [
    "# Can pass individual attributes, but this will\n",
    "# be cleaner through df attributes.\n",
    "y = series.index.grb.addVars(model, ub=5.0, name=\"y\")\n",
    "model.update()"
   ]
  },
  {
   "cell_type": "code",
   "execution_count": null,
   "id": "8df10bbc",
   "metadata": {},
   "outputs": [],
   "source": [
    "# Nothing special for arithmetic operations,\n",
    "# pandas still handles this itself.\n",
    "x + y"
   ]
  },
  {
   "cell_type": "code",
   "execution_count": null,
   "id": "36d300ac",
   "metadata": {},
   "outputs": [],
   "source": [
    "# Use series accessors to read attributes.\n",
    "y.grb.ub"
   ]
  },
  {
   "cell_type": "code",
   "execution_count": null,
   "id": "45b78c59",
   "metadata": {},
   "outputs": [],
   "source": [
    "# Use series accessors to set attributes.\n",
    "y.grb.lb = series\n",
    "model.update()\n",
    "y.grb.lb"
   ]
  },
  {
   "cell_type": "code",
   "execution_count": null,
   "id": "e876d11a",
   "metadata": {},
   "outputs": [],
   "source": [
    "# Things are a bit cleaner with a dataframe.\n",
    "df = pd.DataFrame({\n",
    "    \"a\": list(range(5)),\n",
    "    \"b\": list(range(5, 10)),\n",
    "    \"c\": np.random.random(5),\n",
    "})\n",
    "df"
   ]
  },
  {
   "cell_type": "code",
   "execution_count": null,
   "id": "32cdaff8",
   "metadata": {},
   "outputs": [],
   "source": [
    "# addVars: append a column of new variables\n",
    "# use selected columns for naming\n",
    "df1 = df.grb.addVars(model, name=\"w\", index=[\"a\", \"b\"])\n",
    "model.update()\n",
    "df"
   ]
  },
  {
   "cell_type": "code",
   "execution_count": null,
   "id": "788a3c73",
   "metadata": {},
   "outputs": [],
   "source": [
    "# addVars using multiindex for naming\n",
    "# use a column to set objective coefficients\n",
    "model.setObjective(0)\n",
    "df2 = df1.set_index([\"a\", \"b\"]).grb.addVars(model, name=\"z\", obj=\"c\")\n",
    "model.update()\n",
    "df2"
   ]
  },
  {
   "cell_type": "code",
   "execution_count": null,
   "id": "b6231a7f",
   "metadata": {},
   "outputs": [],
   "source": [
    "model.getObjective()"
   ]
  },
  {
   "cell_type": "code",
   "execution_count": null,
   "id": "435b0fb9",
   "metadata": {},
   "outputs": [],
   "source": [
    "# We can't naturally do overloaded comparisons with just the accessors.\n",
    "# Pandas forces a boolean cast ... more on that later.\n",
    "df2['w'] + df2['z'] >= 1"
   ]
  },
  {
   "cell_type": "code",
   "execution_count": null,
   "id": "4a59d156",
   "metadata": {},
   "outputs": [],
   "source": [
    "# Proposed API: use .grb.addConstrs to create a constraint between two columns or values.\n",
    "df3 = df2.grb.addConstrs(model, lhs=\"w\", sense=GRB.GREATER_EQUAL, rhs=0.5, name=\"w_lower\")\n",
    "model.update()\n",
    "df3"
   ]
  },
  {
   "cell_type": "code",
   "execution_count": null,
   "id": "a8fdd487",
   "metadata": {
    "scrolled": false
   },
   "outputs": [],
   "source": [
    "# Alternative df.eval/df.query style\n",
    "# Simplifies cases where we would need an intermediate\n",
    "# column to capture 'w + z'\n",
    "df4 = df3.grb.addConstrs(model, \"w + z >= c\", name=\"wz\")\n",
    "model.update()\n",
    "df4"
   ]
  },
  {
   "cell_type": "code",
   "execution_count": null,
   "id": "55914aee",
   "metadata": {},
   "outputs": [],
   "source": [
    "model.optimize()"
   ]
  },
  {
   "cell_type": "code",
   "execution_count": null,
   "id": "48368477",
   "metadata": {},
   "outputs": [],
   "source": [
    "# Use series accessor to extract results\n",
    "df4['w'].grb.X"
   ]
  },
  {
   "cell_type": "code",
   "execution_count": null,
   "id": "8b9e80e0",
   "metadata": {},
   "outputs": [],
   "source": [
    "df4['z'].grb.X"
   ]
  },
  {
   "cell_type": "code",
   "execution_count": null,
   "id": "8e78f4a3",
   "metadata": {},
   "outputs": [],
   "source": [
    "df4['wz'].grb.Slack"
   ]
  },
  {
   "cell_type": "code",
   "execution_count": null,
   "id": "51b51fac",
   "metadata": {},
   "outputs": [],
   "source": [
    "df4['w_lower'].grb.Slack"
   ]
  }
 ],
 "metadata": {
  "kernelspec": {
   "display_name": "pdcomfi",
   "language": "python",
   "name": "pdcomfi"
  },
  "language_info": {
   "codemirror_mode": {
    "name": "ipython",
    "version": 3
   },
   "file_extension": ".py",
   "mimetype": "text/x-python",
   "name": "python",
   "nbconvert_exporter": "python",
   "pygments_lexer": "ipython3",
   "version": "3.10.3"
  }
 },
 "nbformat": 4,
 "nbformat_minor": 5
}
