{
 "cells": [
  {
   "cell_type": "code",
   "execution_count": null,
   "id": "4f59f55c",
   "metadata": {},
   "outputs": [],
   "source": [
    "import random\n",
    "import numpy as np\n",
    "import pandas as pd\n",
    "from gurobipy import GRB"
   ]
  },
  {
   "cell_type": "code",
   "execution_count": null,
   "id": "bbfa6538",
   "metadata": {},
   "outputs": [],
   "source": [
    "# Import a Model subclass with some pandas-y features.\n",
    "\n",
    "# Of course, accessors and extension can be used in parallel,\n",
    "# at this point we're just investigating which implementation\n",
    "# gives which benefits.\n",
    "\n",
    "from pdcomfi.extension import Model"
   ]
  },
  {
   "cell_type": "code",
   "execution_count": null,
   "id": "a1168338",
   "metadata": {},
   "outputs": [],
   "source": [
    "model = Model()"
   ]
  },
  {
   "cell_type": "code",
   "execution_count": null,
   "id": "b695df68",
   "metadata": {},
   "outputs": [],
   "source": [
    "# Create variables using indexes. This is a fair bit less\n",
    "# flexible than the accessors, works less naturally than\n",
    "# dataframes.\n",
    "index = pd.RangeIndex(0, 10)\n",
    "x = model.addSeriesVars(index, name=\"x\")\n",
    "y = model.addSeriesVars(index, name=\"x\")\n",
    "model.update()\n",
    "x"
   ]
  },
  {
   "cell_type": "code",
   "execution_count": null,
   "id": "647c0a6e",
   "metadata": {},
   "outputs": [],
   "source": [
    "# Extension type overloads comparators, so this works.\n",
    "x <= 1"
   ]
  },
  {
   "cell_type": "code",
   "execution_count": null,
   "id": "cf803921",
   "metadata": {},
   "outputs": [],
   "source": [
    "# Also fine ...\n",
    "x <= y"
   ]
  },
  {
   "cell_type": "code",
   "execution_count": null,
   "id": "f100529d",
   "metadata": {},
   "outputs": [],
   "source": [
    "# Add constraints using the series of tempconstrs\n",
    "constrs = model.addSeriesConstrs(x <= y, name=\"constr\")\n",
    "model.update()\n",
    "constrs"
   ]
  },
  {
   "cell_type": "code",
   "execution_count": null,
   "id": "d970ecbc",
   "metadata": {},
   "outputs": [],
   "source": [
    "# Roadblocks: too much care required by the user?\n",
    "x <= y[0:5]"
   ]
  },
  {
   "cell_type": "code",
   "execution_count": null,
   "id": "ae8619f1",
   "metadata": {},
   "outputs": [],
   "source": [
    "ind = list(y.index)\n",
    "random.shuffle(ind)\n",
    "x <= y[ind]"
   ]
  },
  {
   "cell_type": "code",
   "execution_count": null,
   "id": "44068711",
   "metadata": {},
   "outputs": [],
   "source": [
    "# Minor roadblock: defying pandas' expectation that a comparison\n",
    "# operator returns a boolean dtype ... it tries a painful lookup.\n",
    "x[y <= 2]"
   ]
  }
 ],
 "metadata": {
  "kernelspec": {
   "display_name": "pdcomfi",
   "language": "python",
   "name": "pdcomfi"
  },
  "language_info": {
   "codemirror_mode": {
    "name": "ipython",
    "version": 3
   },
   "file_extension": ".py",
   "mimetype": "text/x-python",
   "name": "python",
   "nbconvert_exporter": "python",
   "pygments_lexer": "ipython3",
   "version": "3.10.3"
  }
 },
 "nbformat": 4,
 "nbformat_minor": 5
}
